{
 "cells": [
  {
   "cell_type": "code",
   "execution_count": null,
   "metadata": {},
   "outputs": [
    {
     "name": "stdout",
     "output_type": "stream",
     "text": [
      "1.Addition.\n",
      "2.Subtraction. \n",
      "3.Multiplication. \n",
      "4.Division\n",
      "Enter the operation: 1\n",
      "Enter the first number: 2\n",
      "Enter the second number: 3\n",
      "The result is :  5\n",
      "Do you want to continue? (y/n)y\n",
      "-----------------------------------------------------------------\n",
      "1.Addition.\n",
      "2.Subtraction. \n",
      "3.Multiplication. \n",
      "4.Division\n"
     ]
    }
   ],
   "source": [
    "\n",
    "pas=True\n",
    "while pas:\n",
    "    print(\"1.Addition.\")\n",
    "    print(\"2.Subtraction. \")\n",
    "    print(\"3.Multiplication. \")\n",
    "    print(\"4.Division\")\n",
    "    op = input(\"Enter the operation: \")\n",
    "    num1 = int(input(\"Enter the first number: \"))\n",
    "    num2 = int(input(\"Enter the second number: \"))\n",
    "    res = 0\n",
    "    if op==\"1\":\n",
    "        res = num1 + num2\n",
    "    elif op == \"2\":\n",
    "        res = num1 - num2\n",
    "    elif op == \"3\":\n",
    "        res = num1 * num2\n",
    "    elif op == \"4\":\n",
    "        res = num1//num2\n",
    "    else: \n",
    "        print(\"Please enter a valid option.\")\n",
    "        continue\n",
    "    print(\"The result is : \", res)\n",
    "    while True:\n",
    "        resp = input(\"Do you want to continue? (y/n)\")\n",
    "        if resp==\"y\":\n",
    "            break\n",
    "        else: \n",
    "            pas=False\n",
    "            break\n",
    "    print(\"-----------------------------------------------------------------\")"
   ]
  },
  {
   "cell_type": "code",
   "execution_count": 1,
   "metadata": {},
   "outputs": [
    {
     "name": "stdout",
     "output_type": "stream",
     "text": [
      "Enter the plain text: hi there im khushil i am here to learn python\n",
      "Enter the additive key: 8\n",
      "The cipher is :  pq(|pmzm(qu(sp}{pqt(q(iu(pmzm(|w(tmizv(x|pwv\n"
     ]
    }
   ],
   "source": [
    "plaintext = input(\"Enter the plain text: \")\n",
    "key = int(input(\"Enter the additive key: \"))\n",
    "cipher = \"\"\n",
    "for ch in plaintext:\n",
    "    cipher += chr(ord(ch)+key)\n",
    "print(\"The cipher is : \", cipher)"
   ]
  },
  {
   "cell_type": "code",
   "execution_count": 2,
   "metadata": {},
   "outputs": [
    {
     "name": "stdout",
     "output_type": "stream",
     "text": [
      "Enter the caesar cipher: pq(|pmzm(qu(sp}{pqt(q(iu(pmzm(|w(tmizv(x|pwv\n",
      "The addition key is:  8\n",
      "The plaintext is:  hi there im khushil i am here to learn python\n"
     ]
    }
   ],
   "source": [
    "import enchant\n",
    "cipher = input(\"Enter the caesar cipher: \")\n",
    "decrypted = []\n",
    "decryptedData = []\n",
    "dictionary = enchant.Dict(\"en_US\")\n",
    "for i in range(26):\n",
    "    plaintext = \"\"\n",
    "    for ch in cipher:\n",
    "        temp = (ord(ch)-i)\n",
    "        plaintext += chr(temp)\n",
    "    decrypted.append(plaintext)\n",
    "    words = plaintext.split(\" \")\n",
    "    wordsTrue = 0\n",
    "    totalWords = len(words)\n",
    "#     print(plaintext)\n",
    "    for word in words:\n",
    "        if dictionary.check(word):\n",
    "            wordsTrue+=1\n",
    "    decryptedData.append(wordsTrue/totalWords)\n",
    "for i in range(len(decryptedData)):\n",
    "    if decryptedData[i] > 0.5:\n",
    "        print(\"The addition key is: \",i)\n",
    "        print(\"The plaintext is: \",decrypted[i])\n",
    "        break\n",
    "\n"
   ]
  },
  {
   "cell_type": "code",
   "execution_count": null,
   "metadata": {},
   "outputs": [],
   "source": []
  }
 ],
 "metadata": {
  "kernelspec": {
   "display_name": "Python 3",
   "language": "python",
   "name": "python3"
  },
  "language_info": {
   "codemirror_mode": {
    "name": "ipython",
    "version": 3
   },
   "file_extension": ".py",
   "mimetype": "text/x-python",
   "name": "python",
   "nbconvert_exporter": "python",
   "pygments_lexer": "ipython3",
   "version": "3.7.0"
  }
 },
 "nbformat": 4,
 "nbformat_minor": 2
}
