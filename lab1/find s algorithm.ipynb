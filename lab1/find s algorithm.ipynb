{
 "cells": [
  {
   "cell_type": "code",
   "execution_count": 59,
   "metadata": {},
   "outputs": [
    {
     "name": "stdout",
     "output_type": "stream",
     "text": [
      "['null', 'null', 'null', 'null', 'null', 'null', 'null']\n",
      "Index(['sky', 'airtemp', 'humidity', 'wind', 'water', 'forcast', 'enjoysport'], dtype='object')\n",
      "['sunny', 'warm', '?', 'strong', 'warm', 'same', 'yes']\n",
      "['sunny', 'warm', '?', 'strong', 'warm', 'same', 'yes']\n",
      "['sunny', 'warm', '?', 'strong', '?', '?', 'yes']\n"
     ]
    }
   ],
   "source": [
    "import pandas as pd\n",
    "df = pd.read_csv(\"./lab1.csv\")\n",
    "hypo=[]\n",
    "for i in range(len(df.columns)):\n",
    "    if type(df.columns[i]) is str:\n",
    "        hypo.append(\"null\")\n",
    "    elif type(df.columns[i]) is int:\n",
    "        hypo.append(0)\n",
    "    else:\n",
    "        hypo.append(0.0)\n",
    "print(hypo)\n",
    "print(df.columns)\n",
    "l=0\n",
    "# while l<len(df.columns):\n",
    "firstYes = 0\n",
    "for i in range(len(df)):\n",
    "    if df.iloc[i][-1]==\"yes\":\n",
    "        if firstYes == 0:\n",
    "            firstYes=1\n",
    "            for j in range(len(df.iloc[i])):\n",
    "                hypo[j]=df.iloc[i][j]\n",
    "#             print(hypo)\n",
    "            continue\n",
    "        for j in range(len(hypo)-1):\n",
    "            if hypo[j]==df.iloc[i][j]:\n",
    "                continue\n",
    "            hypo[j]=\"?\"\n",
    "    print(hypo)"
   ]
  },
  {
   "cell_type": "code",
   "execution_count": 2,
   "metadata": {},
   "outputs": [
    {
     "name": "stdout",
     "output_type": "stream",
     "text": [
      "Enter the number of samples: 4\n",
      "Enter the number of attributes: 6\n",
      "Enter the data: \n",
      "Sample No. 1\n",
      "Enter the value of attribute: 1:sunny\n",
      "Enter the value of attribute: 2:warm\n",
      "Enter the value of attribute: 3:normal\n",
      "Enter the value of attribute: 4:strong\n",
      "Enter the value of attribute: 5:warm\n",
      "Enter the value of attribute: 6:same\n",
      "Enter the outcome(yes/no) : yes\n",
      "Sample No. 2\n",
      "Enter the value of attribute: 1:sunny\n",
      "Enter the value of attribute: 2:warm\n",
      "Enter the value of attribute: 3:high\n",
      "Enter the value of attribute: 4:strong\n",
      "Enter the value of attribute: 5:warm\n",
      "Enter the value of attribute: 6:same\n",
      "Enter the outcome(yes/no) : yes\n",
      "Sample No. 3\n",
      "Enter the value of attribute: 1:rainy\n",
      "Enter the value of attribute: 2:cold\n",
      "Enter the value of attribute: 3:high\n",
      "Enter the value of attribute: 4:strong\n",
      "Enter the value of attribute: 5:warm\n",
      "Enter the value of attribute: 6:change\n",
      "Enter the outcome(yes/no) : no\n",
      "Sample No. 4\n",
      "Enter the value of attribute: 1:sunny\n",
      "Enter the value of attribute: 2:warm\n",
      "Enter the value of attribute: 3:high\n",
      "Enter the value of attribute: 4:strong\n",
      "Enter the value of attribute: 5:cool\n",
      "Enter the value of attribute: 6:change\n",
      "Enter the outcome(yes/no) : yes\n",
      "['sunny', 'warm', 'normal', 'strong', 'warm', 'same', 'yes']\n",
      "['sunny', 'warm', '?', 'strong', 'warm', 'same', 'yes']\n",
      "['sunny', 'warm', '?', 'strong', 'warm', 'same', 'yes']\n",
      "['sunny', 'warm', '?', 'strong', '?', '?', 'yes']\n"
     ]
    }
   ],
   "source": [
    "n=int(input(\"Enter the number of samples: \"))\n",
    "m=int(input(\"Enter the number of attributes: \"))\n",
    "x=[]\n",
    "print(\"Enter the data: \")\n",
    "for i in range(n):\n",
    "    x.append([])\n",
    "    print(\"Sample No.\",i+1)\n",
    "    for j in range(m):\n",
    "        p = \"Enter the value of attribute: \"+str(j+1)+\":\"\n",
    "        inp = input(p)\n",
    "        x[i].append(inp)\n",
    "    x[i].append(input(\"Enter the outcome(yes/no) : \"))\n",
    "hypo1=[]\n",
    "for i in range(len(x[0])):\n",
    "    if type(x[0][i]) is str:\n",
    "        hypo1.append(\"null\")\n",
    "    elif type(x[0][i]) is int:\n",
    "        hypo1.append(0)\n",
    "    else:\n",
    "        hypo1.append(0.0)\n",
    "# print(hypo1)\n",
    "for i in range(len(x)):\n",
    "    if x[i][-1] == \"yes\":\n",
    "        for j in range(len(hypo1)):\n",
    "            if hypo1[j]==\"null\":\n",
    "                hypo1[j]=x[i][j]\n",
    "            elif hypo1[j]!=x[i][j]:\n",
    "                hypo1[j]=\"?\"\n",
    "    print(hypo1)\n",
    "                "
   ]
  },
  {
   "cell_type": "code",
   "execution_count": null,
   "metadata": {},
   "outputs": [],
   "source": []
  }
 ],
 "metadata": {
  "kernelspec": {
   "display_name": "Python 3",
   "language": "python",
   "name": "python3"
  },
  "language_info": {
   "codemirror_mode": {
    "name": "ipython",
    "version": 3
   },
   "file_extension": ".py",
   "mimetype": "text/x-python",
   "name": "python",
   "nbconvert_exporter": "python",
   "pygments_lexer": "ipython3",
   "version": "3.7.0"
  }
 },
 "nbformat": 4,
 "nbformat_minor": 2
}
